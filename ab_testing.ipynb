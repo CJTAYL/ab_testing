{
  "nbformat": 4,
  "nbformat_minor": 0,
  "metadata": {
    "colab": {
      "provenance": []
    },
    "kernelspec": {
      "name": "python3",
      "display_name": "Python 3"
    },
    "language_info": {
      "name": "python"
    }
  },
  "cells": [
    {
      "cell_type": "markdown",
      "source": [
        "# Evaluation of Advertising Campaign"
      ],
      "metadata": {
        "id": "rtL5pw3MSYvX"
      }
    },
    {
      "cell_type": "code",
      "execution_count": 2,
      "metadata": {
        "id": "c6LDqKmSSWcX"
      },
      "outputs": [],
      "source": [
        "import pandas as pd\n",
        "\n",
        "control_url = 'https://raw.githubusercontent.com/CJTAYL/ab_testing/main/control_group.csv'\n",
        "test_url = 'https://raw.githubusercontent.com/CJTAYL/ab_testing/main/test_group.csv'\n",
        "\n",
        "control_group = pd.read_csv(control_url, sep=';')\n",
        "test_group = pd.read_csv(test_url, sep=';')"
      ]
    },
    {
      "cell_type": "code",
      "source": [
        "control_group.columns"
      ],
      "metadata": {
        "colab": {
          "base_uri": "https://localhost:8080/"
        },
        "id": "UWRjK_RTXmL6",
        "outputId": "d6dd3988-c3e8-401f-b05c-b5e6a03337af"
      },
      "execution_count": 3,
      "outputs": [
        {
          "output_type": "execute_result",
          "data": {
            "text/plain": [
              "Index(['Campaign Name', 'Date', 'Spend [USD]', '# of Impressions', 'Reach',\n",
              "       '# of Website Clicks', '# of Searches', '# of View Content',\n",
              "       '# of Add to Cart', '# of Purchase'],\n",
              "      dtype='object')"
            ]
          },
          "metadata": {},
          "execution_count": 3
        }
      ]
    },
    {
      "cell_type": "code",
      "source": [
        "test_group.columns"
      ],
      "metadata": {
        "colab": {
          "base_uri": "https://localhost:8080/"
        },
        "id": "fmCNnwZ2XrsA",
        "outputId": "ccf52aa6-8dab-4911-aaf2-2184d1e520fe"
      },
      "execution_count": 4,
      "outputs": [
        {
          "output_type": "execute_result",
          "data": {
            "text/plain": [
              "Index(['Campaign Name', 'Date', 'Spend [USD]', '# of Impressions', 'Reach',\n",
              "       '# of Website Clicks', '# of Searches', '# of View Content',\n",
              "       '# of Add to Cart', '# of Purchase'],\n",
              "      dtype='object')"
            ]
          },
          "metadata": {},
          "execution_count": 4
        }
      ]
    },
    {
      "cell_type": "code",
      "source": [
        "column_names = ['group', 'date', 'total_spent', 'impressions', 'reach', 'clicks', 'searches', 'views', 'add_to_cart', 'purchase']\n",
        "\n",
        "control_group.columns = column_names\n",
        "test_group.columns = column_names"
      ],
      "metadata": {
        "id": "pmfavzjVXo5a"
      },
      "execution_count": 5,
      "outputs": []
    },
    {
      "cell_type": "markdown",
      "source": [
        "### Variable Definitions\n",
        "\n",
        "- group: Group assignment\n",
        "- date: Date data were collected\n",
        "- total_spent: Total amount spent in dollars\n",
        "- impressions: Number of impressions the ad crossed through the campaign\n",
        "- reach: Number of unique impressions recieved\n",
        "- clicks: Number of website clicks receieved through the ads\n",
        "- searches: Number of users who performed searches on the website\n",
        "- views:  Number of users who viewed content and products on the website\n",
        "- add_to_cart: Number of users who added products to their cart\n",
        "- purchase: Number of purchases"
      ],
      "metadata": {
        "id": "KAVvZWJ3VX39"
      }
    },
    {
      "cell_type": "code",
      "source": [
        "control_group.info()"
      ],
      "metadata": {
        "colab": {
          "base_uri": "https://localhost:8080/"
        },
        "id": "kqs8Of7CTCr4",
        "outputId": "61bfd129-2813-4fe3-ea23-24c61cd5743f"
      },
      "execution_count": 6,
      "outputs": [
        {
          "output_type": "stream",
          "name": "stdout",
          "text": [
            "<class 'pandas.core.frame.DataFrame'>\n",
            "RangeIndex: 30 entries, 0 to 29\n",
            "Data columns (total 10 columns):\n",
            " #   Column       Non-Null Count  Dtype  \n",
            "---  ------       --------------  -----  \n",
            " 0   group        30 non-null     object \n",
            " 1   date         30 non-null     object \n",
            " 2   total_spent  30 non-null     int64  \n",
            " 3   impressions  29 non-null     float64\n",
            " 4   reach        29 non-null     float64\n",
            " 5   clicks       29 non-null     float64\n",
            " 6   searches     29 non-null     float64\n",
            " 7   views        29 non-null     float64\n",
            " 8   add_to_cart  29 non-null     float64\n",
            " 9   purchase     29 non-null     float64\n",
            "dtypes: float64(7), int64(1), object(2)\n",
            "memory usage: 2.5+ KB\n"
          ]
        }
      ]
    },
    {
      "cell_type": "code",
      "source": [
        "test_group.info()"
      ],
      "metadata": {
        "colab": {
          "base_uri": "https://localhost:8080/"
        },
        "id": "qs_f5PatTEb1",
        "outputId": "aa2119ad-2368-446a-c81d-562edec68127"
      },
      "execution_count": 7,
      "outputs": [
        {
          "output_type": "stream",
          "name": "stdout",
          "text": [
            "<class 'pandas.core.frame.DataFrame'>\n",
            "RangeIndex: 30 entries, 0 to 29\n",
            "Data columns (total 10 columns):\n",
            " #   Column       Non-Null Count  Dtype \n",
            "---  ------       --------------  ----- \n",
            " 0   group        30 non-null     object\n",
            " 1   date         30 non-null     object\n",
            " 2   total_spent  30 non-null     int64 \n",
            " 3   impressions  30 non-null     int64 \n",
            " 4   reach        30 non-null     int64 \n",
            " 5   clicks       30 non-null     int64 \n",
            " 6   searches     30 non-null     int64 \n",
            " 7   views        30 non-null     int64 \n",
            " 8   add_to_cart  30 non-null     int64 \n",
            " 9   purchase     30 non-null     int64 \n",
            "dtypes: int64(8), object(2)\n",
            "memory usage: 2.5+ KB\n"
          ]
        }
      ]
    },
    {
      "cell_type": "code",
      "source": [
        "control_group.head()"
      ],
      "metadata": {
        "colab": {
          "base_uri": "https://localhost:8080/",
          "height": 206
        },
        "id": "1KR6ngVJYMVs",
        "outputId": "82afbfba-db3a-47e9-8fe4-caf665294d97"
      },
      "execution_count": 8,
      "outputs": [
        {
          "output_type": "execute_result",
          "data": {
            "text/plain": [
              "              group       date  total_spent  impressions     reach  clicks  \\\n",
              "0  Control Campaign  1.08.2019         2280      82702.0   56930.0  7016.0   \n",
              "1  Control Campaign  2.08.2019         1757     121040.0  102513.0  8110.0   \n",
              "2  Control Campaign  3.08.2019         2343     131711.0  110862.0  6508.0   \n",
              "3  Control Campaign  4.08.2019         1940      72878.0   61235.0  3065.0   \n",
              "4  Control Campaign  5.08.2019         1835          NaN       NaN     NaN   \n",
              "\n",
              "   searches   views  add_to_cart  purchase  \n",
              "0    2290.0  2159.0       1819.0     618.0  \n",
              "1    2033.0  1841.0       1219.0     511.0  \n",
              "2    1737.0  1549.0       1134.0     372.0  \n",
              "3    1042.0   982.0       1183.0     340.0  \n",
              "4       NaN     NaN          NaN       NaN  "
            ],
            "text/html": [
              "\n",
              "  <div id=\"df-70878b31-9a18-44c4-b4b1-a3a4e1093365\" class=\"colab-df-container\">\n",
              "    <div>\n",
              "<style scoped>\n",
              "    .dataframe tbody tr th:only-of-type {\n",
              "        vertical-align: middle;\n",
              "    }\n",
              "\n",
              "    .dataframe tbody tr th {\n",
              "        vertical-align: top;\n",
              "    }\n",
              "\n",
              "    .dataframe thead th {\n",
              "        text-align: right;\n",
              "    }\n",
              "</style>\n",
              "<table border=\"1\" class=\"dataframe\">\n",
              "  <thead>\n",
              "    <tr style=\"text-align: right;\">\n",
              "      <th></th>\n",
              "      <th>group</th>\n",
              "      <th>date</th>\n",
              "      <th>total_spent</th>\n",
              "      <th>impressions</th>\n",
              "      <th>reach</th>\n",
              "      <th>clicks</th>\n",
              "      <th>searches</th>\n",
              "      <th>views</th>\n",
              "      <th>add_to_cart</th>\n",
              "      <th>purchase</th>\n",
              "    </tr>\n",
              "  </thead>\n",
              "  <tbody>\n",
              "    <tr>\n",
              "      <th>0</th>\n",
              "      <td>Control Campaign</td>\n",
              "      <td>1.08.2019</td>\n",
              "      <td>2280</td>\n",
              "      <td>82702.0</td>\n",
              "      <td>56930.0</td>\n",
              "      <td>7016.0</td>\n",
              "      <td>2290.0</td>\n",
              "      <td>2159.0</td>\n",
              "      <td>1819.0</td>\n",
              "      <td>618.0</td>\n",
              "    </tr>\n",
              "    <tr>\n",
              "      <th>1</th>\n",
              "      <td>Control Campaign</td>\n",
              "      <td>2.08.2019</td>\n",
              "      <td>1757</td>\n",
              "      <td>121040.0</td>\n",
              "      <td>102513.0</td>\n",
              "      <td>8110.0</td>\n",
              "      <td>2033.0</td>\n",
              "      <td>1841.0</td>\n",
              "      <td>1219.0</td>\n",
              "      <td>511.0</td>\n",
              "    </tr>\n",
              "    <tr>\n",
              "      <th>2</th>\n",
              "      <td>Control Campaign</td>\n",
              "      <td>3.08.2019</td>\n",
              "      <td>2343</td>\n",
              "      <td>131711.0</td>\n",
              "      <td>110862.0</td>\n",
              "      <td>6508.0</td>\n",
              "      <td>1737.0</td>\n",
              "      <td>1549.0</td>\n",
              "      <td>1134.0</td>\n",
              "      <td>372.0</td>\n",
              "    </tr>\n",
              "    <tr>\n",
              "      <th>3</th>\n",
              "      <td>Control Campaign</td>\n",
              "      <td>4.08.2019</td>\n",
              "      <td>1940</td>\n",
              "      <td>72878.0</td>\n",
              "      <td>61235.0</td>\n",
              "      <td>3065.0</td>\n",
              "      <td>1042.0</td>\n",
              "      <td>982.0</td>\n",
              "      <td>1183.0</td>\n",
              "      <td>340.0</td>\n",
              "    </tr>\n",
              "    <tr>\n",
              "      <th>4</th>\n",
              "      <td>Control Campaign</td>\n",
              "      <td>5.08.2019</td>\n",
              "      <td>1835</td>\n",
              "      <td>NaN</td>\n",
              "      <td>NaN</td>\n",
              "      <td>NaN</td>\n",
              "      <td>NaN</td>\n",
              "      <td>NaN</td>\n",
              "      <td>NaN</td>\n",
              "      <td>NaN</td>\n",
              "    </tr>\n",
              "  </tbody>\n",
              "</table>\n",
              "</div>\n",
              "    <div class=\"colab-df-buttons\">\n",
              "\n",
              "  <div class=\"colab-df-container\">\n",
              "    <button class=\"colab-df-convert\" onclick=\"convertToInteractive('df-70878b31-9a18-44c4-b4b1-a3a4e1093365')\"\n",
              "            title=\"Convert this dataframe to an interactive table.\"\n",
              "            style=\"display:none;\">\n",
              "\n",
              "  <svg xmlns=\"http://www.w3.org/2000/svg\" height=\"24px\" viewBox=\"0 -960 960 960\">\n",
              "    <path d=\"M120-120v-720h720v720H120Zm60-500h600v-160H180v160Zm220 220h160v-160H400v160Zm0 220h160v-160H400v160ZM180-400h160v-160H180v160Zm440 0h160v-160H620v160ZM180-180h160v-160H180v160Zm440 0h160v-160H620v160Z\"/>\n",
              "  </svg>\n",
              "    </button>\n",
              "\n",
              "  <style>\n",
              "    .colab-df-container {\n",
              "      display:flex;\n",
              "      gap: 12px;\n",
              "    }\n",
              "\n",
              "    .colab-df-convert {\n",
              "      background-color: #E8F0FE;\n",
              "      border: none;\n",
              "      border-radius: 50%;\n",
              "      cursor: pointer;\n",
              "      display: none;\n",
              "      fill: #1967D2;\n",
              "      height: 32px;\n",
              "      padding: 0 0 0 0;\n",
              "      width: 32px;\n",
              "    }\n",
              "\n",
              "    .colab-df-convert:hover {\n",
              "      background-color: #E2EBFA;\n",
              "      box-shadow: 0px 1px 2px rgba(60, 64, 67, 0.3), 0px 1px 3px 1px rgba(60, 64, 67, 0.15);\n",
              "      fill: #174EA6;\n",
              "    }\n",
              "\n",
              "    .colab-df-buttons div {\n",
              "      margin-bottom: 4px;\n",
              "    }\n",
              "\n",
              "    [theme=dark] .colab-df-convert {\n",
              "      background-color: #3B4455;\n",
              "      fill: #D2E3FC;\n",
              "    }\n",
              "\n",
              "    [theme=dark] .colab-df-convert:hover {\n",
              "      background-color: #434B5C;\n",
              "      box-shadow: 0px 1px 3px 1px rgba(0, 0, 0, 0.15);\n",
              "      filter: drop-shadow(0px 1px 2px rgba(0, 0, 0, 0.3));\n",
              "      fill: #FFFFFF;\n",
              "    }\n",
              "  </style>\n",
              "\n",
              "    <script>\n",
              "      const buttonEl =\n",
              "        document.querySelector('#df-70878b31-9a18-44c4-b4b1-a3a4e1093365 button.colab-df-convert');\n",
              "      buttonEl.style.display =\n",
              "        google.colab.kernel.accessAllowed ? 'block' : 'none';\n",
              "\n",
              "      async function convertToInteractive(key) {\n",
              "        const element = document.querySelector('#df-70878b31-9a18-44c4-b4b1-a3a4e1093365');\n",
              "        const dataTable =\n",
              "          await google.colab.kernel.invokeFunction('convertToInteractive',\n",
              "                                                    [key], {});\n",
              "        if (!dataTable) return;\n",
              "\n",
              "        const docLinkHtml = 'Like what you see? Visit the ' +\n",
              "          '<a target=\"_blank\" href=https://colab.research.google.com/notebooks/data_table.ipynb>data table notebook</a>'\n",
              "          + ' to learn more about interactive tables.';\n",
              "        element.innerHTML = '';\n",
              "        dataTable['output_type'] = 'display_data';\n",
              "        await google.colab.output.renderOutput(dataTable, element);\n",
              "        const docLink = document.createElement('div');\n",
              "        docLink.innerHTML = docLinkHtml;\n",
              "        element.appendChild(docLink);\n",
              "      }\n",
              "    </script>\n",
              "  </div>\n",
              "\n",
              "\n",
              "<div id=\"df-a1048e02-b480-4be3-94d8-49ba2a01cf74\">\n",
              "  <button class=\"colab-df-quickchart\" onclick=\"quickchart('df-a1048e02-b480-4be3-94d8-49ba2a01cf74')\"\n",
              "            title=\"Suggest charts\"\n",
              "            style=\"display:none;\">\n",
              "\n",
              "<svg xmlns=\"http://www.w3.org/2000/svg\" height=\"24px\"viewBox=\"0 0 24 24\"\n",
              "     width=\"24px\">\n",
              "    <g>\n",
              "        <path d=\"M19 3H5c-1.1 0-2 .9-2 2v14c0 1.1.9 2 2 2h14c1.1 0 2-.9 2-2V5c0-1.1-.9-2-2-2zM9 17H7v-7h2v7zm4 0h-2V7h2v10zm4 0h-2v-4h2v4z\"/>\n",
              "    </g>\n",
              "</svg>\n",
              "  </button>\n",
              "\n",
              "<style>\n",
              "  .colab-df-quickchart {\n",
              "      --bg-color: #E8F0FE;\n",
              "      --fill-color: #1967D2;\n",
              "      --hover-bg-color: #E2EBFA;\n",
              "      --hover-fill-color: #174EA6;\n",
              "      --disabled-fill-color: #AAA;\n",
              "      --disabled-bg-color: #DDD;\n",
              "  }\n",
              "\n",
              "  [theme=dark] .colab-df-quickchart {\n",
              "      --bg-color: #3B4455;\n",
              "      --fill-color: #D2E3FC;\n",
              "      --hover-bg-color: #434B5C;\n",
              "      --hover-fill-color: #FFFFFF;\n",
              "      --disabled-bg-color: #3B4455;\n",
              "      --disabled-fill-color: #666;\n",
              "  }\n",
              "\n",
              "  .colab-df-quickchart {\n",
              "    background-color: var(--bg-color);\n",
              "    border: none;\n",
              "    border-radius: 50%;\n",
              "    cursor: pointer;\n",
              "    display: none;\n",
              "    fill: var(--fill-color);\n",
              "    height: 32px;\n",
              "    padding: 0;\n",
              "    width: 32px;\n",
              "  }\n",
              "\n",
              "  .colab-df-quickchart:hover {\n",
              "    background-color: var(--hover-bg-color);\n",
              "    box-shadow: 0 1px 2px rgba(60, 64, 67, 0.3), 0 1px 3px 1px rgba(60, 64, 67, 0.15);\n",
              "    fill: var(--button-hover-fill-color);\n",
              "  }\n",
              "\n",
              "  .colab-df-quickchart-complete:disabled,\n",
              "  .colab-df-quickchart-complete:disabled:hover {\n",
              "    background-color: var(--disabled-bg-color);\n",
              "    fill: var(--disabled-fill-color);\n",
              "    box-shadow: none;\n",
              "  }\n",
              "\n",
              "  .colab-df-spinner {\n",
              "    border: 2px solid var(--fill-color);\n",
              "    border-color: transparent;\n",
              "    border-bottom-color: var(--fill-color);\n",
              "    animation:\n",
              "      spin 1s steps(1) infinite;\n",
              "  }\n",
              "\n",
              "  @keyframes spin {\n",
              "    0% {\n",
              "      border-color: transparent;\n",
              "      border-bottom-color: var(--fill-color);\n",
              "      border-left-color: var(--fill-color);\n",
              "    }\n",
              "    20% {\n",
              "      border-color: transparent;\n",
              "      border-left-color: var(--fill-color);\n",
              "      border-top-color: var(--fill-color);\n",
              "    }\n",
              "    30% {\n",
              "      border-color: transparent;\n",
              "      border-left-color: var(--fill-color);\n",
              "      border-top-color: var(--fill-color);\n",
              "      border-right-color: var(--fill-color);\n",
              "    }\n",
              "    40% {\n",
              "      border-color: transparent;\n",
              "      border-right-color: var(--fill-color);\n",
              "      border-top-color: var(--fill-color);\n",
              "    }\n",
              "    60% {\n",
              "      border-color: transparent;\n",
              "      border-right-color: var(--fill-color);\n",
              "    }\n",
              "    80% {\n",
              "      border-color: transparent;\n",
              "      border-right-color: var(--fill-color);\n",
              "      border-bottom-color: var(--fill-color);\n",
              "    }\n",
              "    90% {\n",
              "      border-color: transparent;\n",
              "      border-bottom-color: var(--fill-color);\n",
              "    }\n",
              "  }\n",
              "</style>\n",
              "\n",
              "  <script>\n",
              "    async function quickchart(key) {\n",
              "      const quickchartButtonEl =\n",
              "        document.querySelector('#' + key + ' button');\n",
              "      quickchartButtonEl.disabled = true;  // To prevent multiple clicks.\n",
              "      quickchartButtonEl.classList.add('colab-df-spinner');\n",
              "      try {\n",
              "        const charts = await google.colab.kernel.invokeFunction(\n",
              "            'suggestCharts', [key], {});\n",
              "      } catch (error) {\n",
              "        console.error('Error during call to suggestCharts:', error);\n",
              "      }\n",
              "      quickchartButtonEl.classList.remove('colab-df-spinner');\n",
              "      quickchartButtonEl.classList.add('colab-df-quickchart-complete');\n",
              "    }\n",
              "    (() => {\n",
              "      let quickchartButtonEl =\n",
              "        document.querySelector('#df-a1048e02-b480-4be3-94d8-49ba2a01cf74 button');\n",
              "      quickchartButtonEl.style.display =\n",
              "        google.colab.kernel.accessAllowed ? 'block' : 'none';\n",
              "    })();\n",
              "  </script>\n",
              "</div>\n",
              "\n",
              "    </div>\n",
              "  </div>\n"
            ],
            "application/vnd.google.colaboratory.intrinsic+json": {
              "type": "dataframe",
              "variable_name": "control_group",
              "summary": "{\n  \"name\": \"control_group\",\n  \"rows\": 30,\n  \"fields\": [\n    {\n      \"column\": \"group\",\n      \"properties\": {\n        \"dtype\": \"category\",\n        \"num_unique_values\": 1,\n        \"samples\": [\n          \"Control Campaign\"\n        ],\n        \"semantic_type\": \"\",\n        \"description\": \"\"\n      }\n    },\n    {\n      \"column\": \"date\",\n      \"properties\": {\n        \"dtype\": \"string\",\n        \"num_unique_values\": 30,\n        \"samples\": [\n          \"28.08.2019\"\n        ],\n        \"semantic_type\": \"\",\n        \"description\": \"\"\n      }\n    },\n    {\n      \"column\": \"total_spent\",\n      \"properties\": {\n        \"dtype\": \"number\",\n        \"std\": 367,\n        \"min\": 1757,\n        \"max\": 3083,\n        \"num_unique_values\": 30,\n        \"samples\": [\n          2421\n        ],\n        \"semantic_type\": \"\",\n        \"description\": \"\"\n      }\n    },\n    {\n      \"column\": \"impressions\",\n      \"properties\": {\n        \"dtype\": \"number\",\n        \"std\": 21688.922907879518,\n        \"min\": 71274.0,\n        \"max\": 145248.0,\n        \"num_unique_values\": 29,\n        \"samples\": [\n          92029.0\n        ],\n        \"semantic_type\": \"\",\n        \"description\": \"\"\n      }\n    },\n    {\n      \"column\": \"reach\",\n      \"properties\": {\n        \"dtype\": \"number\",\n        \"std\": 21832.349595318796,\n        \"min\": 42859.0,\n        \"max\": 127852.0,\n        \"num_unique_values\": 29,\n        \"samples\": [\n          74192.0\n        ],\n        \"semantic_type\": \"\",\n        \"description\": \"\"\n      }\n    },\n    {\n      \"column\": \"clicks\",\n      \"properties\": {\n        \"dtype\": \"number\",\n        \"std\": 1757.3690030292107,\n        \"min\": 2277.0,\n        \"max\": 8137.0,\n        \"num_unique_values\": 29,\n        \"samples\": [\n          8127.0\n        ],\n        \"semantic_type\": \"\",\n        \"description\": \"\"\n      }\n    },\n    {\n      \"column\": \"searches\",\n      \"properties\": {\n        \"dtype\": \"number\",\n        \"std\": 866.0893678503669,\n        \"min\": 1001.0,\n        \"max\": 4891.0,\n        \"num_unique_values\": 29,\n        \"samples\": [\n          4891.0\n        ],\n        \"semantic_type\": \"\",\n        \"description\": \"\"\n      }\n    },\n    {\n      \"column\": \"views\",\n      \"properties\": {\n        \"dtype\": \"number\",\n        \"std\": 777.5454685515341,\n        \"min\": 848.0,\n        \"max\": 4219.0,\n        \"num_unique_values\": 26,\n        \"samples\": [\n          1984.0\n        ],\n        \"semantic_type\": \"\",\n        \"description\": \"\"\n      }\n    },\n    {\n      \"column\": \"add_to_cart\",\n      \"properties\": {\n        \"dtype\": \"number\",\n        \"std\": 407.45797329295203,\n        \"min\": 442.0,\n        \"max\": 1913.0,\n        \"num_unique_values\": 29,\n        \"samples\": [\n          1486.0\n        ],\n        \"semantic_type\": \"\",\n        \"description\": \"\"\n      }\n    },\n    {\n      \"column\": \"purchase\",\n      \"properties\": {\n        \"dtype\": \"number\",\n        \"std\": 185.02864243723857,\n        \"min\": 222.0,\n        \"max\": 800.0,\n        \"num_unique_values\": 28,\n        \"samples\": [\n          475.0\n        ],\n        \"semantic_type\": \"\",\n        \"description\": \"\"\n      }\n    }\n  ]\n}"
            }
          },
          "metadata": {},
          "execution_count": 8
        }
      ]
    },
    {
      "cell_type": "code",
      "source": [
        "test_group.head()"
      ],
      "metadata": {
        "colab": {
          "base_uri": "https://localhost:8080/",
          "height": 206
        },
        "id": "af-s7VPEYH0r",
        "outputId": "938806bb-fd04-4697-db9a-2e58909b5bc0"
      },
      "execution_count": 9,
      "outputs": [
        {
          "output_type": "execute_result",
          "data": {
            "text/plain": [
              "           group       date  total_spent  impressions  reach  clicks  \\\n",
              "0  Test Campaign  1.08.2019         3008        39550  35820    3038   \n",
              "1  Test Campaign  2.08.2019         2542       100719  91236    4657   \n",
              "2  Test Campaign  3.08.2019         2365        70263  45198    7885   \n",
              "3  Test Campaign  4.08.2019         2710        78451  25937    4216   \n",
              "4  Test Campaign  5.08.2019         2297       114295  95138    5863   \n",
              "\n",
              "   searches  views  add_to_cart  purchase  \n",
              "0      1946   1069          894       255  \n",
              "1      2359   1548          879       677  \n",
              "2      2572   2367         1268       578  \n",
              "3      2216   1437          566       340  \n",
              "4      2106    858          956       768  "
            ],
            "text/html": [
              "\n",
              "  <div id=\"df-c965dff5-f19b-408e-bebd-09e491a3c5a4\" class=\"colab-df-container\">\n",
              "    <div>\n",
              "<style scoped>\n",
              "    .dataframe tbody tr th:only-of-type {\n",
              "        vertical-align: middle;\n",
              "    }\n",
              "\n",
              "    .dataframe tbody tr th {\n",
              "        vertical-align: top;\n",
              "    }\n",
              "\n",
              "    .dataframe thead th {\n",
              "        text-align: right;\n",
              "    }\n",
              "</style>\n",
              "<table border=\"1\" class=\"dataframe\">\n",
              "  <thead>\n",
              "    <tr style=\"text-align: right;\">\n",
              "      <th></th>\n",
              "      <th>group</th>\n",
              "      <th>date</th>\n",
              "      <th>total_spent</th>\n",
              "      <th>impressions</th>\n",
              "      <th>reach</th>\n",
              "      <th>clicks</th>\n",
              "      <th>searches</th>\n",
              "      <th>views</th>\n",
              "      <th>add_to_cart</th>\n",
              "      <th>purchase</th>\n",
              "    </tr>\n",
              "  </thead>\n",
              "  <tbody>\n",
              "    <tr>\n",
              "      <th>0</th>\n",
              "      <td>Test Campaign</td>\n",
              "      <td>1.08.2019</td>\n",
              "      <td>3008</td>\n",
              "      <td>39550</td>\n",
              "      <td>35820</td>\n",
              "      <td>3038</td>\n",
              "      <td>1946</td>\n",
              "      <td>1069</td>\n",
              "      <td>894</td>\n",
              "      <td>255</td>\n",
              "    </tr>\n",
              "    <tr>\n",
              "      <th>1</th>\n",
              "      <td>Test Campaign</td>\n",
              "      <td>2.08.2019</td>\n",
              "      <td>2542</td>\n",
              "      <td>100719</td>\n",
              "      <td>91236</td>\n",
              "      <td>4657</td>\n",
              "      <td>2359</td>\n",
              "      <td>1548</td>\n",
              "      <td>879</td>\n",
              "      <td>677</td>\n",
              "    </tr>\n",
              "    <tr>\n",
              "      <th>2</th>\n",
              "      <td>Test Campaign</td>\n",
              "      <td>3.08.2019</td>\n",
              "      <td>2365</td>\n",
              "      <td>70263</td>\n",
              "      <td>45198</td>\n",
              "      <td>7885</td>\n",
              "      <td>2572</td>\n",
              "      <td>2367</td>\n",
              "      <td>1268</td>\n",
              "      <td>578</td>\n",
              "    </tr>\n",
              "    <tr>\n",
              "      <th>3</th>\n",
              "      <td>Test Campaign</td>\n",
              "      <td>4.08.2019</td>\n",
              "      <td>2710</td>\n",
              "      <td>78451</td>\n",
              "      <td>25937</td>\n",
              "      <td>4216</td>\n",
              "      <td>2216</td>\n",
              "      <td>1437</td>\n",
              "      <td>566</td>\n",
              "      <td>340</td>\n",
              "    </tr>\n",
              "    <tr>\n",
              "      <th>4</th>\n",
              "      <td>Test Campaign</td>\n",
              "      <td>5.08.2019</td>\n",
              "      <td>2297</td>\n",
              "      <td>114295</td>\n",
              "      <td>95138</td>\n",
              "      <td>5863</td>\n",
              "      <td>2106</td>\n",
              "      <td>858</td>\n",
              "      <td>956</td>\n",
              "      <td>768</td>\n",
              "    </tr>\n",
              "  </tbody>\n",
              "</table>\n",
              "</div>\n",
              "    <div class=\"colab-df-buttons\">\n",
              "\n",
              "  <div class=\"colab-df-container\">\n",
              "    <button class=\"colab-df-convert\" onclick=\"convertToInteractive('df-c965dff5-f19b-408e-bebd-09e491a3c5a4')\"\n",
              "            title=\"Convert this dataframe to an interactive table.\"\n",
              "            style=\"display:none;\">\n",
              "\n",
              "  <svg xmlns=\"http://www.w3.org/2000/svg\" height=\"24px\" viewBox=\"0 -960 960 960\">\n",
              "    <path d=\"M120-120v-720h720v720H120Zm60-500h600v-160H180v160Zm220 220h160v-160H400v160Zm0 220h160v-160H400v160ZM180-400h160v-160H180v160Zm440 0h160v-160H620v160ZM180-180h160v-160H180v160Zm440 0h160v-160H620v160Z\"/>\n",
              "  </svg>\n",
              "    </button>\n",
              "\n",
              "  <style>\n",
              "    .colab-df-container {\n",
              "      display:flex;\n",
              "      gap: 12px;\n",
              "    }\n",
              "\n",
              "    .colab-df-convert {\n",
              "      background-color: #E8F0FE;\n",
              "      border: none;\n",
              "      border-radius: 50%;\n",
              "      cursor: pointer;\n",
              "      display: none;\n",
              "      fill: #1967D2;\n",
              "      height: 32px;\n",
              "      padding: 0 0 0 0;\n",
              "      width: 32px;\n",
              "    }\n",
              "\n",
              "    .colab-df-convert:hover {\n",
              "      background-color: #E2EBFA;\n",
              "      box-shadow: 0px 1px 2px rgba(60, 64, 67, 0.3), 0px 1px 3px 1px rgba(60, 64, 67, 0.15);\n",
              "      fill: #174EA6;\n",
              "    }\n",
              "\n",
              "    .colab-df-buttons div {\n",
              "      margin-bottom: 4px;\n",
              "    }\n",
              "\n",
              "    [theme=dark] .colab-df-convert {\n",
              "      background-color: #3B4455;\n",
              "      fill: #D2E3FC;\n",
              "    }\n",
              "\n",
              "    [theme=dark] .colab-df-convert:hover {\n",
              "      background-color: #434B5C;\n",
              "      box-shadow: 0px 1px 3px 1px rgba(0, 0, 0, 0.15);\n",
              "      filter: drop-shadow(0px 1px 2px rgba(0, 0, 0, 0.3));\n",
              "      fill: #FFFFFF;\n",
              "    }\n",
              "  </style>\n",
              "\n",
              "    <script>\n",
              "      const buttonEl =\n",
              "        document.querySelector('#df-c965dff5-f19b-408e-bebd-09e491a3c5a4 button.colab-df-convert');\n",
              "      buttonEl.style.display =\n",
              "        google.colab.kernel.accessAllowed ? 'block' : 'none';\n",
              "\n",
              "      async function convertToInteractive(key) {\n",
              "        const element = document.querySelector('#df-c965dff5-f19b-408e-bebd-09e491a3c5a4');\n",
              "        const dataTable =\n",
              "          await google.colab.kernel.invokeFunction('convertToInteractive',\n",
              "                                                    [key], {});\n",
              "        if (!dataTable) return;\n",
              "\n",
              "        const docLinkHtml = 'Like what you see? Visit the ' +\n",
              "          '<a target=\"_blank\" href=https://colab.research.google.com/notebooks/data_table.ipynb>data table notebook</a>'\n",
              "          + ' to learn more about interactive tables.';\n",
              "        element.innerHTML = '';\n",
              "        dataTable['output_type'] = 'display_data';\n",
              "        await google.colab.output.renderOutput(dataTable, element);\n",
              "        const docLink = document.createElement('div');\n",
              "        docLink.innerHTML = docLinkHtml;\n",
              "        element.appendChild(docLink);\n",
              "      }\n",
              "    </script>\n",
              "  </div>\n",
              "\n",
              "\n",
              "<div id=\"df-b95a4f0f-74d9-4170-a825-0b5a99c49027\">\n",
              "  <button class=\"colab-df-quickchart\" onclick=\"quickchart('df-b95a4f0f-74d9-4170-a825-0b5a99c49027')\"\n",
              "            title=\"Suggest charts\"\n",
              "            style=\"display:none;\">\n",
              "\n",
              "<svg xmlns=\"http://www.w3.org/2000/svg\" height=\"24px\"viewBox=\"0 0 24 24\"\n",
              "     width=\"24px\">\n",
              "    <g>\n",
              "        <path d=\"M19 3H5c-1.1 0-2 .9-2 2v14c0 1.1.9 2 2 2h14c1.1 0 2-.9 2-2V5c0-1.1-.9-2-2-2zM9 17H7v-7h2v7zm4 0h-2V7h2v10zm4 0h-2v-4h2v4z\"/>\n",
              "    </g>\n",
              "</svg>\n",
              "  </button>\n",
              "\n",
              "<style>\n",
              "  .colab-df-quickchart {\n",
              "      --bg-color: #E8F0FE;\n",
              "      --fill-color: #1967D2;\n",
              "      --hover-bg-color: #E2EBFA;\n",
              "      --hover-fill-color: #174EA6;\n",
              "      --disabled-fill-color: #AAA;\n",
              "      --disabled-bg-color: #DDD;\n",
              "  }\n",
              "\n",
              "  [theme=dark] .colab-df-quickchart {\n",
              "      --bg-color: #3B4455;\n",
              "      --fill-color: #D2E3FC;\n",
              "      --hover-bg-color: #434B5C;\n",
              "      --hover-fill-color: #FFFFFF;\n",
              "      --disabled-bg-color: #3B4455;\n",
              "      --disabled-fill-color: #666;\n",
              "  }\n",
              "\n",
              "  .colab-df-quickchart {\n",
              "    background-color: var(--bg-color);\n",
              "    border: none;\n",
              "    border-radius: 50%;\n",
              "    cursor: pointer;\n",
              "    display: none;\n",
              "    fill: var(--fill-color);\n",
              "    height: 32px;\n",
              "    padding: 0;\n",
              "    width: 32px;\n",
              "  }\n",
              "\n",
              "  .colab-df-quickchart:hover {\n",
              "    background-color: var(--hover-bg-color);\n",
              "    box-shadow: 0 1px 2px rgba(60, 64, 67, 0.3), 0 1px 3px 1px rgba(60, 64, 67, 0.15);\n",
              "    fill: var(--button-hover-fill-color);\n",
              "  }\n",
              "\n",
              "  .colab-df-quickchart-complete:disabled,\n",
              "  .colab-df-quickchart-complete:disabled:hover {\n",
              "    background-color: var(--disabled-bg-color);\n",
              "    fill: var(--disabled-fill-color);\n",
              "    box-shadow: none;\n",
              "  }\n",
              "\n",
              "  .colab-df-spinner {\n",
              "    border: 2px solid var(--fill-color);\n",
              "    border-color: transparent;\n",
              "    border-bottom-color: var(--fill-color);\n",
              "    animation:\n",
              "      spin 1s steps(1) infinite;\n",
              "  }\n",
              "\n",
              "  @keyframes spin {\n",
              "    0% {\n",
              "      border-color: transparent;\n",
              "      border-bottom-color: var(--fill-color);\n",
              "      border-left-color: var(--fill-color);\n",
              "    }\n",
              "    20% {\n",
              "      border-color: transparent;\n",
              "      border-left-color: var(--fill-color);\n",
              "      border-top-color: var(--fill-color);\n",
              "    }\n",
              "    30% {\n",
              "      border-color: transparent;\n",
              "      border-left-color: var(--fill-color);\n",
              "      border-top-color: var(--fill-color);\n",
              "      border-right-color: var(--fill-color);\n",
              "    }\n",
              "    40% {\n",
              "      border-color: transparent;\n",
              "      border-right-color: var(--fill-color);\n",
              "      border-top-color: var(--fill-color);\n",
              "    }\n",
              "    60% {\n",
              "      border-color: transparent;\n",
              "      border-right-color: var(--fill-color);\n",
              "    }\n",
              "    80% {\n",
              "      border-color: transparent;\n",
              "      border-right-color: var(--fill-color);\n",
              "      border-bottom-color: var(--fill-color);\n",
              "    }\n",
              "    90% {\n",
              "      border-color: transparent;\n",
              "      border-bottom-color: var(--fill-color);\n",
              "    }\n",
              "  }\n",
              "</style>\n",
              "\n",
              "  <script>\n",
              "    async function quickchart(key) {\n",
              "      const quickchartButtonEl =\n",
              "        document.querySelector('#' + key + ' button');\n",
              "      quickchartButtonEl.disabled = true;  // To prevent multiple clicks.\n",
              "      quickchartButtonEl.classList.add('colab-df-spinner');\n",
              "      try {\n",
              "        const charts = await google.colab.kernel.invokeFunction(\n",
              "            'suggestCharts', [key], {});\n",
              "      } catch (error) {\n",
              "        console.error('Error during call to suggestCharts:', error);\n",
              "      }\n",
              "      quickchartButtonEl.classList.remove('colab-df-spinner');\n",
              "      quickchartButtonEl.classList.add('colab-df-quickchart-complete');\n",
              "    }\n",
              "    (() => {\n",
              "      let quickchartButtonEl =\n",
              "        document.querySelector('#df-b95a4f0f-74d9-4170-a825-0b5a99c49027 button');\n",
              "      quickchartButtonEl.style.display =\n",
              "        google.colab.kernel.accessAllowed ? 'block' : 'none';\n",
              "    })();\n",
              "  </script>\n",
              "</div>\n",
              "\n",
              "    </div>\n",
              "  </div>\n"
            ],
            "application/vnd.google.colaboratory.intrinsic+json": {
              "type": "dataframe",
              "variable_name": "test_group",
              "summary": "{\n  \"name\": \"test_group\",\n  \"rows\": 30,\n  \"fields\": [\n    {\n      \"column\": \"group\",\n      \"properties\": {\n        \"dtype\": \"category\",\n        \"num_unique_values\": 1,\n        \"samples\": [\n          \"Test Campaign\"\n        ],\n        \"semantic_type\": \"\",\n        \"description\": \"\"\n      }\n    },\n    {\n      \"column\": \"date\",\n      \"properties\": {\n        \"dtype\": \"string\",\n        \"num_unique_values\": 30,\n        \"samples\": [\n          \"28.08.2019\"\n        ],\n        \"semantic_type\": \"\",\n        \"description\": \"\"\n      }\n    },\n    {\n      \"column\": \"total_spent\",\n      \"properties\": {\n        \"dtype\": \"number\",\n        \"std\": 348,\n        \"min\": 1968,\n        \"max\": 3112,\n        \"num_unique_values\": 30,\n        \"samples\": [\n          2247\n        ],\n        \"semantic_type\": \"\",\n        \"description\": \"\"\n      }\n    },\n    {\n      \"column\": \"impressions\",\n      \"properties\": {\n        \"dtype\": \"number\",\n        \"std\": 32121,\n        \"min\": 22521,\n        \"max\": 133771,\n        \"num_unique_values\": 30,\n        \"samples\": [\n          54627\n        ],\n        \"semantic_type\": \"\",\n        \"description\": \"\"\n      }\n    },\n    {\n      \"column\": \"reach\",\n      \"properties\": {\n        \"dtype\": \"number\",\n        \"std\": 28795,\n        \"min\": 10598,\n        \"max\": 109834,\n        \"num_unique_values\": 30,\n        \"samples\": [\n          41267\n        ],\n        \"semantic_type\": \"\",\n        \"description\": \"\"\n      }\n    },\n    {\n      \"column\": \"clicks\",\n      \"properties\": {\n        \"dtype\": \"number\",\n        \"std\": 1708,\n        \"min\": 3038,\n        \"max\": 8264,\n        \"num_unique_values\": 30,\n        \"samples\": [\n          8144\n        ],\n        \"semantic_type\": \"\",\n        \"description\": \"\"\n      }\n    },\n    {\n      \"column\": \"searches\",\n      \"properties\": {\n        \"dtype\": \"number\",\n        \"std\": 388,\n        \"min\": 1854,\n        \"max\": 2978,\n        \"num_unique_values\": 29,\n        \"samples\": [\n          1920\n        ],\n        \"semantic_type\": \"\",\n        \"description\": \"\"\n      }\n    },\n    {\n      \"column\": \"views\",\n      \"properties\": {\n        \"dtype\": \"number\",\n        \"std\": 597,\n        \"min\": 858,\n        \"max\": 2801,\n        \"num_unique_values\": 30,\n        \"samples\": [\n          1281\n        ],\n        \"semantic_type\": \"\",\n        \"description\": \"\"\n      }\n    },\n    {\n      \"column\": \"add_to_cart\",\n      \"properties\": {\n        \"dtype\": \"number\",\n        \"std\": 347,\n        \"min\": 278,\n        \"max\": 1391,\n        \"num_unique_values\": 30,\n        \"samples\": [\n          1009\n        ],\n        \"semantic_type\": \"\",\n        \"description\": \"\"\n      }\n    },\n    {\n      \"column\": \"purchase\",\n      \"properties\": {\n        \"dtype\": \"number\",\n        \"std\": 211,\n        \"min\": 238,\n        \"max\": 890,\n        \"num_unique_values\": 28,\n        \"samples\": [\n          275\n        ],\n        \"semantic_type\": \"\",\n        \"description\": \"\"\n      }\n    }\n  ]\n}"
            }
          },
          "metadata": {},
          "execution_count": 9
        }
      ]
    },
    {
      "cell_type": "code",
      "source": [
        "# Shorten group labels\n",
        "control_group['group'] = control_group['group'].replace({'Control Campaign' : 'control'})\n",
        "test_group['group'] = test_group['group'].replace({'Test Campaign' : 'test'})"
      ],
      "metadata": {
        "id": "KEbJ_cV2b9Ha"
      },
      "execution_count": 10,
      "outputs": []
    },
    {
      "cell_type": "code",
      "source": [
        "# Update data types for date variable\n",
        "\n",
        "from datetime import datetime\n",
        "\n",
        "date_string = '1.08.2019'\n",
        "date_format = '%d.%m.%Y'\n",
        "\n",
        "control_group['date'] = datetime.strptime(date_string, date_format)\n",
        "test_group['date'] = datetime.strptime(date_string, date_format)"
      ],
      "metadata": {
        "id": "hp4ZDN19YSzP"
      },
      "execution_count": 11,
      "outputs": []
    },
    {
      "cell_type": "code",
      "source": [
        "control_group.info()"
      ],
      "metadata": {
        "colab": {
          "base_uri": "https://localhost:8080/"
        },
        "id": "pv_Jp-qsZFkY",
        "outputId": "d51b1168-d36e-4bed-88f3-84da0b1df1de"
      },
      "execution_count": 12,
      "outputs": [
        {
          "output_type": "stream",
          "name": "stdout",
          "text": [
            "<class 'pandas.core.frame.DataFrame'>\n",
            "RangeIndex: 30 entries, 0 to 29\n",
            "Data columns (total 10 columns):\n",
            " #   Column       Non-Null Count  Dtype         \n",
            "---  ------       --------------  -----         \n",
            " 0   group        30 non-null     object        \n",
            " 1   date         30 non-null     datetime64[ns]\n",
            " 2   total_spent  30 non-null     int64         \n",
            " 3   impressions  29 non-null     float64       \n",
            " 4   reach        29 non-null     float64       \n",
            " 5   clicks       29 non-null     float64       \n",
            " 6   searches     29 non-null     float64       \n",
            " 7   views        29 non-null     float64       \n",
            " 8   add_to_cart  29 non-null     float64       \n",
            " 9   purchase     29 non-null     float64       \n",
            "dtypes: datetime64[ns](1), float64(7), int64(1), object(1)\n",
            "memory usage: 2.5+ KB\n"
          ]
        }
      ]
    },
    {
      "cell_type": "code",
      "source": [
        "control_group.isnull().sum()"
      ],
      "metadata": {
        "colab": {
          "base_uri": "https://localhost:8080/"
        },
        "id": "_wUzUiDvTGpv",
        "outputId": "3ef590a8-f0df-4cfe-a4b6-43b5fd797b4b"
      },
      "execution_count": 13,
      "outputs": [
        {
          "output_type": "execute_result",
          "data": {
            "text/plain": [
              "group          0\n",
              "date           0\n",
              "total_spent    0\n",
              "impressions    1\n",
              "reach          1\n",
              "clicks         1\n",
              "searches       1\n",
              "views          1\n",
              "add_to_cart    1\n",
              "purchase       1\n",
              "dtype: int64"
            ]
          },
          "metadata": {},
          "execution_count": 13
        }
      ]
    },
    {
      "cell_type": "code",
      "source": [
        "test_group.isnull().sum()"
      ],
      "metadata": {
        "colab": {
          "base_uri": "https://localhost:8080/"
        },
        "id": "brZaEitPTKjU",
        "outputId": "357149ff-d352-440a-b79b-e717aa2da811"
      },
      "execution_count": 14,
      "outputs": [
        {
          "output_type": "execute_result",
          "data": {
            "text/plain": [
              "group          0\n",
              "date           0\n",
              "total_spent    0\n",
              "impressions    0\n",
              "reach          0\n",
              "clicks         0\n",
              "searches       0\n",
              "views          0\n",
              "add_to_cart    0\n",
              "purchase       0\n",
              "dtype: int64"
            ]
          },
          "metadata": {},
          "execution_count": 14
        }
      ]
    },
    {
      "cell_type": "code",
      "source": [
        "# Fill missing values with column median\n",
        "control_group.fillna(control_group.median(numeric_only=True), inplace=True)"
      ],
      "metadata": {
        "id": "_IKHcqwDTPHu"
      },
      "execution_count": 15,
      "outputs": []
    },
    {
      "cell_type": "code",
      "source": [
        "# Update numeric columns to int64\n",
        "\n",
        "numeric_cols = control_group.select_dtypes(include=['number']).columns\n",
        "\n",
        "control_group[numeric_cols] = control_group[numeric_cols].astype('int64')\n",
        "test_group[numeric_cols] = test_group[numeric_cols].astype('int64')"
      ],
      "metadata": {
        "id": "00DXoVjXadIP"
      },
      "execution_count": 16,
      "outputs": []
    },
    {
      "cell_type": "code",
      "source": [
        "# Create combined dataset for visualizations\n",
        "combined_data = pd.concat([control_group, test_group], ignore_index=True)"
      ],
      "metadata": {
        "id": "5Gfkqf8CVPqw"
      },
      "execution_count": 17,
      "outputs": []
    },
    {
      "cell_type": "code",
      "source": [
        "import seaborn as sns\n",
        "import matplotlib.pyplot as plt\n",
        "\n",
        "def generate_pointplot(y, y_label):\n",
        "    plt.figure(figsize=(8, 6))\n",
        "    sns.pointplot(x='group', y=y, hue='group', data=combined_data)\n",
        "    plt.ylabel(y_label)\n",
        "    plt.xlabel('Group')\n",
        "    plt.show()"
      ],
      "metadata": {
        "id": "Z5pcLvteZfQb"
      },
      "execution_count": 18,
      "outputs": []
    },
    {
      "cell_type": "code",
      "source": [
        "generate_pointplot('total_spent', 'Total Spent (USD)')"
      ],
      "metadata": {
        "colab": {
          "base_uri": "https://localhost:8080/",
          "height": 545
        },
        "id": "qw9EfSYQaAHI",
        "outputId": "838ff65f-e0f4-4e2d-a5c9-074befe4f24d"
      },
      "execution_count": 19,
      "outputs": [
        {
          "output_type": "display_data",
          "data": {
            "text/plain": [
              "<Figure size 800x600 with 1 Axes>"
            ],
            "image/png": "[encoded data removed]"
          },
          "metadata": {}
        }
      ]
    },
    {
      "cell_type": "markdown",
      "source": [
        "There is a difference between the means; however, without a statistical test it is unclear if the difference is statistically significant."
      ],
      "metadata": {
        "id": "wqChLjrgfTp6"
      }
    },
    {
      "cell_type": "markdown",
      "source": [
        "## Checking Assumptions of Independent T-Test"
      ],
      "metadata": {
        "id": "uTeeO1TyiyGQ"
      }
    },
    {
      "cell_type": "markdown",
      "source": [
        "Assumptions of Independent T-Test\n",
        "- independence of observations (addressed in experimental design)\n",
        "- no significant outliers\n",
        "- dependent variable for each group is approximately normally distributed\n",
        "- equal variance across the two groups\n",
        "- samples are drawn from the population at random (addressed in experimental design)\n",
        "- dependent variable is measured on an interval or ratio scale (addressed in experimental design)"
      ],
      "metadata": {
        "id": "hNh_-iMiibVW"
      }
    },
    {
      "cell_type": "markdown",
      "source": [
        "### Presence of Significant Outliers"
      ],
      "metadata": {
        "id": "BHIXToUcjAq9"
      }
    },
    {
      "cell_type": "code",
      "source": [
        "sns.boxplot(combined_data,\n",
        "            y = 'total_spent',\n",
        "            hue = 'group')\n",
        "\n",
        "plt.title('Boxplot of Target Variable ')\n",
        "plt.ylabel('Total Spent')\n",
        "plt.xlabel('Group')\n",
        "plt.show()"
      ],
      "metadata": {
        "colab": {
          "base_uri": "https://localhost:8080/",
          "height": 458
        },
        "id": "c28gKbTUEVom",
        "outputId": "8a551d86-5dfd-4d4f-a1ca-4073de5558af"
      },
      "execution_count": 20,
      "outputs": [
        {
          "output_type": "display_data",
          "data": {
            "text/plain": [
              "<Figure size 640x480 with 1 Axes>"
            ],
            "image/png": "[encoded data removed]"
          },
          "metadata": {}
        }
      ]
    },
    {
      "cell_type": "markdown",
      "source": [
        "Based on the boxplot, there does not appear to be any significant outliers in the dataset."
      ],
      "metadata": {
        "id": "N_xCD73SjzPV"
      }
    },
    {
      "cell_type": "markdown",
      "source": [
        "### Normality of Dependent Variable Across Groups"
      ],
      "metadata": {
        "id": "QwclFMjvk6Rt"
      }
    },
    {
      "cell_type": "code",
      "source": [
        "sns.displot(\n",
        "    combined_data,\n",
        "    x='total_spent',\n",
        "    col='group'\n",
        ")\n",
        "\n",
        "plt.show()"
      ],
      "metadata": {
        "colab": {
          "base_uri": "https://localhost:8080/",
          "height": 507
        },
        "id": "nzS5ISQafRYa",
        "outputId": "203117fb-6bbd-40ae-9635-11e46160736f"
      },
      "execution_count": 21,
      "outputs": [
        {
          "output_type": "display_data",
          "data": {
            "text/plain": [
              "<Figure size 1000x500 with 2 Axes>"
            ],
            "image/png": "[encoded data removed]"
          },
          "metadata": {}
        }
      ]
    },
    {
      "cell_type": "markdown",
      "source": [
        "The Wilks-Shapiro test is used to determine if data fits a normal distribution. It is especially effective for small and medium datasets.\n",
        "\n",
        "$H_0$: The sample data are drawn from a normal distribution\n",
        "\n",
        "$H_1$: The sample data are not drawn from a normal distribution"
      ],
      "metadata": {
        "id": "ZK_AYTYfnU0J"
      }
    },
    {
      "cell_type": "code",
      "source": [
        "from scipy.stats import shapiro\n",
        "\n",
        "con_stat, con_p_value = shapiro(control_group['total_spent'])\n",
        "test_stat, test_p_value = shapiro(test_group['total_spent'])\n",
        "\n",
        "sig_level = 0.05\n",
        "\n",
        "print(f'Control Group P-Value: {con_p_value}')\n",
        "\n",
        "if con_p_value < sig_level:\n",
        "    print('Reject null hypothesis')\n",
        "else:\n",
        "    print('Fail to reject null hypothesis')\n",
        "\n",
        "print()\n",
        "\n",
        "print(f'Test Group P-Value: {test_p_value}')\n",
        "\n",
        "if test_p_value < sig_level:\n",
        "    print('Reject null hypothesis')\n",
        "else:\n",
        "    print('Fail to reject null hypothesis')\n"
      ],
      "metadata": {
        "colab": {
          "base_uri": "https://localhost:8080/"
        },
        "id": "5pFYNnXXjwYy",
        "outputId": "90222298-c81f-4b39-93c6-c573950174b7"
      },
      "execution_count": 22,
      "outputs": [
        {
          "output_type": "stream",
          "name": "stdout",
          "text": [
            "Control Group P-Value: 0.23127490282058716\n",
            "Fail to reject null hypothesis\n",
            "\n",
            "Test Group P-Value: 0.11714765429496765\n",
            "Fail to reject null hypothesis\n"
          ]
        }
      ]
    },
    {
      "cell_type": "markdown",
      "source": [
        "Based on the results of the Wilks-Shapiro test, the distribution of the data are likely normal."
      ],
      "metadata": {
        "id": "4RFCVmEHn5SM"
      }
    },
    {
      "cell_type": "markdown",
      "source": [
        "### Equal Variance Across Groups"
      ],
      "metadata": {
        "id": "xmddw0ydFAWR"
      }
    },
    {
      "cell_type": "markdown",
      "source": [
        "Based on the data in the boxplot, it appears the variance across groups is similar. To provide additional infomation about group variance, Bartlett's Test was also conducted. Its null and alternative hypotheses are:\n",
        "\n",
        "$H_0$: The variances are equal across groups\n",
        "\n",
        "$H_1$: The variances are not equal across groups"
      ],
      "metadata": {
        "id": "7MsxP8_Fmm9Z"
      }
    },
    {
      "cell_type": "code",
      "source": [
        "from scipy.stats import bartlett\n",
        "\n",
        "stat, p_value = bartlett(test_group['total_spent'], control_group['total_spent'])\n",
        "\n",
        "print(f'P-Value: {p_value}')\n",
        "\n",
        "if p_value < sig_level:\n",
        "    print('Reject null hypothesis')\n",
        "else:\n",
        "    print('Fail to reject null hypothesis')"
      ],
      "metadata": {
        "colab": {
          "base_uri": "https://localhost:8080/"
        },
        "id": "7mh6oLPqlTq9",
        "outputId": "6a575296-37a8-41b9-b46c-5c9142ec5e62"
      },
      "execution_count": 23,
      "outputs": [
        {
          "output_type": "stream",
          "name": "stdout",
          "text": [
            "P-Value: 0.7809389394964033\n",
            "Fail to reject null hypothesis\n"
          ]
        }
      ]
    },
    {
      "cell_type": "markdown",
      "source": [
        "Based on the available data, it appears the assumptions of the independent t-test are met."
      ],
      "metadata": {
        "id": "hw3IK4jUlp9G"
      }
    },
    {
      "cell_type": "markdown",
      "source": [
        "## Independent T Test"
      ],
      "metadata": {
        "id": "KWSv1A9BVQtR"
      }
    },
    {
      "cell_type": "code",
      "source": [
        "from scipy.stats import ttest_ind\n",
        "\n",
        "t_stat, p_value = ttest_ind(test_group['total_spent'], control_group['total_spent'])\n",
        "\n",
        "print(f'Test Statistic: {t_stat}')\n",
        "print(f'P-Value: {p_value}')\n",
        "\n",
        "if p_value < sig_level:\n",
        "    print('Reject null hypothesis')\n",
        "else:\n",
        "    print('Fail to reject null hypothesis')"
      ],
      "metadata": {
        "colab": {
          "base_uri": "https://localhost:8080/"
        },
        "id": "9lv02nvFjZGP",
        "outputId": "e35522bc-ee53-40ed-9e71-349ab82810c3"
      },
      "execution_count": 24,
      "outputs": [
        {
          "output_type": "stream",
          "name": "stdout",
          "text": [
            "Test Statistic: 2.969991516565667\n",
            "P-Value: 0.004326251207113236\n",
            "Reject null hypothesis\n"
          ]
        }
      ]
    },
    {
      "cell_type": "markdown",
      "source": [
        "#### 95% Confidence Interval for Group Mean Difference"
      ],
      "metadata": {
        "id": "ET_y1CW-y23g"
      }
    },
    {
      "cell_type": "code",
      "source": [
        "import numpy as np\n",
        "import scipy.stats as stats\n",
        "\n",
        "ctrl_grp = control_group['total_spent']\n",
        "test_grp = test_group['total_spent']\n",
        "\n",
        "mean_diff = test_grp.mean() - ctrl_grp.mean()\n",
        "sem = np.sqrt(stats.sem(test_grp)**2 + stats.sem(ctrl_grp)**2)\n",
        "confidence_level = 0.975 # one-tailed hypothesis\n",
        "df = len(test_grp) + len(ctrl_grp) - 2\n",
        "\n",
        "confidence_interval = stats.t.interval(confidence_level, df, loc=mean_diff, scale=sem)\n",
        "\n",
        "print(f'Mean Difference: {mean_diff}')\n",
        "print(f'95% Confidence Interval: {confidence_interval}')\n"
      ],
      "metadata": {
        "colab": {
          "base_uri": "https://localhost:8080/"
        },
        "id": "2eJNxpP7y9o1",
        "outputId": "80fa36bb-9c43-474c-b8a7-7ab0f327227d"
      },
      "execution_count": 25,
      "outputs": [
        {
          "output_type": "stream",
          "name": "stdout",
          "text": [
            "Mean Difference: 274.6333333333332\n",
            "95% Confidence Interval: (61.85351264685099, 487.41315401981564)\n"
          ]
        }
      ]
    },
    {
      "cell_type": "markdown",
      "source": [
        "### Post-Hoc Determination of Statisitcal Power"
      ],
      "metadata": {
        "id": "izdKZrZFUkrO"
      }
    },
    {
      "cell_type": "code",
      "source": [
        "def cohen_d(group1, group2):\n",
        "    n1, n2 = len(group1), len(group2)\n",
        "    var1, var2 = np.var(group1, ddof=1), np.var(group2, ddof=1)\n",
        "    pooled_std = np.sqrt(((n1 - 1) * var1 + (n2 - 1) * var2) / (n1 + n2 - 2))\n",
        "    d = (np.mean(group1) - np.mean(group2)) / pooled_std\n",
        "    return d"
      ],
      "metadata": {
        "id": "9M2pbQ0U31Ds"
      },
      "execution_count": 26,
      "outputs": []
    },
    {
      "cell_type": "code",
      "source": [
        "# Using Cohen's d to calculate the effect size\n",
        "\n",
        "cohen_d(test_grp, ctrl_grp)"
      ],
      "metadata": {
        "colab": {
          "base_uri": "https://localhost:8080/"
        },
        "id": "GkrYLvmk4YaA",
        "outputId": "fa7f2347-838f-4eb1-fc39-a3a820e10d41"
      },
      "execution_count": 27,
      "outputs": [
        {
          "output_type": "execute_result",
          "data": {
            "text/plain": [
              "0.7668485121357427"
            ]
          },
          "metadata": {},
          "execution_count": 27
        }
      ]
    },
    {
      "cell_type": "code",
      "source": [
        "from statsmodels.stats.power import TTestIndPower\n",
        "\n",
        "effect_size = 0.77\n",
        "alpha = 0.05\n",
        "nobs = 30\n",
        "power = None\n",
        "\n",
        "analysis = TTestIndPower()\n",
        "result = analysis.solve_power(effect_size = effect_size, power=power, nobs1=nobs, ratio=1.0, alpha=alpha)\n",
        "print(f'Power: {result}')"
      ],
      "metadata": {
        "id": "4pAeAfgTbdrQ",
        "colab": {
          "base_uri": "https://localhost:8080/"
        },
        "outputId": "c86f08b0-2cf7-453c-b94f-ee630b30ea60"
      },
      "execution_count": 28,
      "outputs": [
        {
          "output_type": "stream",
          "name": "stdout",
          "text": [
            "Power: 0.8346025673912121\n"
          ]
        }
      ]
    },
    {
      "cell_type": "code",
      "source": [],
      "metadata": {
        "id": "oYHH56zhVADK"
      },
      "execution_count": 28,
      "outputs": []
    }
  ]
}